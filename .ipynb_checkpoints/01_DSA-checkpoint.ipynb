{
 "cells": [
  {
   "cell_type": "markdown",
   "id": "437eb1d4",
   "metadata": {},
   "source": [
    "Date: 18/11/2021"
   ]
  },
  {
   "cell_type": "code",
   "execution_count": 1,
   "id": "4e60a209",
   "metadata": {},
   "outputs": [],
   "source": [
    "# refenrences: https://www.hackerrank.com/dashboard"
   ]
  },
  {
   "cell_type": "markdown",
   "id": "8be0462a",
   "metadata": {},
   "source": [
    "**Problem-1: Reverse an array of integers.**"
   ]
  },
  {
   "cell_type": "code",
   "execution_count": 4,
   "id": "55779ffc",
   "metadata": {},
   "outputs": [
    {
     "name": "stdout",
     "output_type": "stream",
     "text": [
      "[5, 3, 1]\n"
     ]
    }
   ],
   "source": [
    "# method-1\n",
    "\n",
    "A = [1,3,5]\n",
    "\n",
    "# reversing the element of A\n",
    "print(A[::-1])"
   ]
  },
  {
   "cell_type": "code",
   "execution_count": 13,
   "id": "704c4903",
   "metadata": {},
   "outputs": [
    {
     "name": "stdout",
     "output_type": "stream",
     "text": [
      "[6, 3, 7, 5, 3]\n"
     ]
    }
   ],
   "source": [
    "# method-2\n",
    "\n",
    "A = [3,5,7,3, 6]\n",
    "B = []\n",
    "for i in range(len(A)-1,-1,-1):\n",
    "    B.append(A[i])\n",
    "print(B)"
   ]
  },
  {
   "cell_type": "markdown",
   "id": "a2bc97ba",
   "metadata": {},
   "source": [
    "**Problem-2: A left rotation operation on an array** \n",
    "\n",
    "Shifts each of the array's elements  unit to the left. Given an integer, d , rotate the array that many steps left and return the result."
   ]
  },
  {
   "cell_type": "code",
   "execution_count": 65,
   "id": "eebf0ae3",
   "metadata": {},
   "outputs": [
    {
     "data": {
      "text/plain": [
       "[5, 7, 1, 3]"
      ]
     },
     "execution_count": 65,
     "metadata": {},
     "output_type": "execute_result"
    }
   ],
   "source": [
    "# method-1\n",
    "\n",
    "def rotateLeft(d, arr):\n",
    "    B = arr[:d]\n",
    "    C = arr[d:]\n",
    "    C.extend(B)\n",
    "    return C\n",
    "\n",
    "A = [1,3,5,7]\n",
    "rotateLeft(2, A)"
   ]
  },
  {
   "cell_type": "code",
   "execution_count": 69,
   "id": "8988cce8",
   "metadata": {},
   "outputs": [
    {
     "data": {
      "text/plain": [
       "[5, 7, 1, 3]"
      ]
     },
     "execution_count": 69,
     "metadata": {},
     "output_type": "execute_result"
    }
   ],
   "source": [
    "# method-2\n",
    "\n",
    "A = [1,3,5,7]\n",
    "d = 2\n",
    "B = []\n",
    "for i in range(len(A)):\n",
    "    B.append(A[(i+d)%len(A)])\n",
    "B"
   ]
  },
  {
   "cell_type": "code",
   "execution_count": 77,
   "id": "c9023cc0",
   "metadata": {},
   "outputs": [
    {
     "name": "stdout",
     "output_type": "stream",
     "text": [
      "[5, 7, 1, 3]\n"
     ]
    }
   ],
   "source": [
    "# method-3\n",
    "A = [1,3,5,7]\n",
    "\n",
    "for i in range(d):\n",
    "    temp = A[0]\n",
    "    for i in range(len(A)-1):\n",
    "        A[i] = A[i+1]\n",
    "    A[len(A)-1] = temp\n",
    "    \n",
    "print(A)"
   ]
  },
  {
   "cell_type": "code",
   "execution_count": 85,
   "id": "e5badd0e",
   "metadata": {},
   "outputs": [
    {
     "data": {
      "text/plain": [
       "[5, 7, 9, 1, 3]"
      ]
     },
     "execution_count": 85,
     "metadata": {},
     "output_type": "execute_result"
    }
   ],
   "source": [
    "# method-5\n",
    "\n",
    "A = [1,3,5,7,9]\n",
    "d = 2\n",
    "\n",
    "C = A[:d]\n",
    "D = A[d:]\n",
    "\n",
    "C = C[::-1]\n",
    "D = D[::-1]\n",
    "\n",
    "C.extend(D)\n",
    "C[::-1]"
   ]
  },
  {
   "cell_type": "code",
   "execution_count": null,
   "id": "9d4d1c8b",
   "metadata": {},
   "outputs": [],
   "source": []
  }
 ],
 "metadata": {
  "kernelspec": {
   "display_name": "Python 3 (ipykernel)",
   "language": "python",
   "name": "python3"
  },
  "language_info": {
   "codemirror_mode": {
    "name": "ipython",
    "version": 3
   },
   "file_extension": ".py",
   "mimetype": "text/x-python",
   "name": "python",
   "nbconvert_exporter": "python",
   "pygments_lexer": "ipython3",
   "version": "3.10.0"
  }
 },
 "nbformat": 4,
 "nbformat_minor": 5
}
