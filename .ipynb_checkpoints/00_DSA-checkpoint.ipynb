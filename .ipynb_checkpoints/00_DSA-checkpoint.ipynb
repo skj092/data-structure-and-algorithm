{
 "cells": [
  {
   "cell_type": "code",
   "execution_count": null,
   "id": "64f24034",
   "metadata": {},
   "outputs": [],
   "source": [
    "# References : \n",
    "#     1. https://docs.python.org/3/tutorial/datastructures.html\n",
    "#     2. https://www.geeksforgeeks.org/array-data-structure/"
   ]
  },
  {
   "cell_type": "markdown",
   "id": "5b3188e2",
   "metadata": {},
   "source": [
    "# Data Structure"
   ]
  },
  {
   "cell_type": "markdown",
   "id": "cad53cd8",
   "metadata": {},
   "source": [
    "`A data structure is a particular way of organizing data in a computer so that it can be used effectively.`"
   ]
  },
  {
   "cell_type": "markdown",
   "id": "1814e8ac",
   "metadata": {},
   "source": [
    "## Array Data Structure"
   ]
  },
  {
   "cell_type": "markdown",
   "id": "426c2a74",
   "metadata": {},
   "source": [
    "* An array is a collection of items stored at contiguous memory locations\n",
    "* The idea is to store multiple items of the same type together. \n",
    "* This makes it easier to calculate the position of each element by simply adding an offset to a base value.\n",
    "* i.e., the memory location of the first element of the array (generally denoted by the name of the array)."
   ]
  },
  {
   "cell_type": "markdown",
   "id": "a7d948c8",
   "metadata": {},
   "source": [
    "![array](images/Capture1.png)"
   ]
  },
  {
   "cell_type": "markdown",
   "id": "b94b548a",
   "metadata": {},
   "source": [
    "**In Python Array is called as `List`. Here are all of the methods of list objects:**"
   ]
  },
  {
   "cell_type": "markdown",
   "id": "b50710bf",
   "metadata": {},
   "source": [
    "01. list.append(x)\n",
    "02. list.extend(iterable)\n",
    "03. list.insert(i, x)\n",
    "04. list.remove(x)\n",
    "05. list.pop([i])\n",
    "06. list.clear()\n",
    "07. list.index(x[, start[, end]])\n",
    "08. list.count(x)\n",
    "09. list.sort(*, key=None, reverse=False)\n",
    "10. list.reverse()\n",
    "11. list.copy()"
   ]
  },
  {
   "cell_type": "markdown",
   "id": "a6fbcee1",
   "metadata": {},
   "source": [
    "**1. Append**"
   ]
  },
  {
   "cell_type": "code",
   "execution_count": 16,
   "id": "5321afda",
   "metadata": {},
   "outputs": [
    {
     "name": "stdout",
     "output_type": "stream",
     "text": [
      "[1, 3, 5, 9]\n"
     ]
    }
   ],
   "source": [
    "# 1. Append\n",
    "\n",
    "A = list([1,3,5])\n",
    "\n",
    "# appending 9 in A\n",
    "\n",
    "A.append(9)\n",
    "print(A)"
   ]
  },
  {
   "cell_type": "markdown",
   "id": "9e0d7d61",
   "metadata": {},
   "source": [
    "9 has been appended at the end "
   ]
  },
  {
   "cell_type": "markdown",
   "id": "27336b01",
   "metadata": {},
   "source": [
    "**2. Extend**"
   ]
  },
  {
   "cell_type": "code",
   "execution_count": 18,
   "id": "8cfb6044",
   "metadata": {},
   "outputs": [
    {
     "ename": "TypeError",
     "evalue": "'int' object is not iterable",
     "output_type": "error",
     "traceback": [
      "\u001b[1;31m---------------------------------------------------------------------------\u001b[0m",
      "\u001b[1;31mTypeError\u001b[0m                                 Traceback (most recent call last)",
      "\u001b[1;32mC:\\Users\\SONURA~1.JHA\\AppData\\Local\\Temp/ipykernel_3808/229549973.py\u001b[0m in \u001b[0;36m<module>\u001b[1;34m\u001b[0m\n\u001b[0;32m      2\u001b[0m \u001b[1;33m\u001b[0m\u001b[0m\n\u001b[0;32m      3\u001b[0m \u001b[0mA\u001b[0m \u001b[1;33m=\u001b[0m \u001b[0mlist\u001b[0m\u001b[1;33m(\u001b[0m\u001b[1;33m[\u001b[0m\u001b[1;34m'hello'\u001b[0m\u001b[1;33m,\u001b[0m \u001b[1;34m'world'\u001b[0m\u001b[1;33m,\u001b[0m \u001b[1;36m1\u001b[0m\u001b[1;33m]\u001b[0m\u001b[1;33m)\u001b[0m\u001b[1;33m\u001b[0m\u001b[1;33m\u001b[0m\u001b[0m\n\u001b[1;32m----> 4\u001b[1;33m \u001b[0mA\u001b[0m\u001b[1;33m.\u001b[0m\u001b[0mextend\u001b[0m\u001b[1;33m(\u001b[0m\u001b[1;36m5\u001b[0m\u001b[1;33m)\u001b[0m\u001b[1;33m\u001b[0m\u001b[1;33m\u001b[0m\u001b[0m\n\u001b[0m\u001b[0;32m      5\u001b[0m \u001b[0mA\u001b[0m\u001b[1;33m\u001b[0m\u001b[1;33m\u001b[0m\u001b[0m\n",
      "\u001b[1;31mTypeError\u001b[0m: 'int' object is not iterable"
     ]
    }
   ],
   "source": [
    "# 2. Extend\n",
    "\n",
    "A = list(['hello', 'world', 1])\n",
    "A.extend(5)\n",
    "A"
   ]
  },
  {
   "cell_type": "code",
   "execution_count": 19,
   "id": "d90a3549",
   "metadata": {},
   "outputs": [
    {
     "name": "stdout",
     "output_type": "stream",
     "text": [
      "['hello', 'world', 1, 3, 5]\n"
     ]
    }
   ],
   "source": [
    "B = list([3,5,])\n",
    "A.extend(B)\n",
    "print(A)"
   ]
  },
  {
   "cell_type": "code",
   "execution_count": 21,
   "id": "23a6321e",
   "metadata": {},
   "outputs": [
    {
     "name": "stdout",
     "output_type": "stream",
     "text": [
      "['hello', 'world', 1, 3, 5, 1, 3, 5, 9, 1, 3, 5, 9]\n"
     ]
    }
   ],
   "source": [
    "C = [1,3,5, 9]\n",
    "A.extend(C)\n",
    "print(A)"
   ]
  },
  {
   "cell_type": "markdown",
   "id": "d7f089e1",
   "metadata": {},
   "source": [
    "**3. Insert**"
   ]
  },
  {
   "cell_type": "code",
   "execution_count": 23,
   "id": "2c165b10",
   "metadata": {},
   "outputs": [
    {
     "name": "stdout",
     "output_type": "stream",
     "text": [
      "['h', 'h', 6, 'e', 'l']\n"
     ]
    }
   ],
   "source": [
    "# 3. Insert\n",
    "\n",
    "A = ['h','h','e','l']\n",
    "\n",
    "# insert 6 at the index 2\n",
    "A.insert(2, 6)\n",
    "\n",
    "print(A)"
   ]
  },
  {
   "cell_type": "markdown",
   "id": "ac3457a9",
   "metadata": {},
   "source": [
    "**4. Remove**"
   ]
  },
  {
   "cell_type": "code",
   "execution_count": 25,
   "id": "c8b31f18",
   "metadata": {},
   "outputs": [
    {
     "ename": "ValueError",
     "evalue": "list.remove(x): x not in list",
     "output_type": "error",
     "traceback": [
      "\u001b[1;31m---------------------------------------------------------------------------\u001b[0m",
      "\u001b[1;31mValueError\u001b[0m                                Traceback (most recent call last)",
      "\u001b[1;32mC:\\Users\\SONURA~1.JHA\\AppData\\Local\\Temp/ipykernel_3808/2552588359.py\u001b[0m in \u001b[0;36m<module>\u001b[1;34m\u001b[0m\n\u001b[0;32m      2\u001b[0m \u001b[1;33m\u001b[0m\u001b[0m\n\u001b[0;32m      3\u001b[0m \u001b[0mA\u001b[0m \u001b[1;33m=\u001b[0m \u001b[1;33m[\u001b[0m\u001b[1;36m5\u001b[0m\u001b[1;33m,\u001b[0m \u001b[1;36m2.9\u001b[0m\u001b[1;33m,\u001b[0m \u001b[1;36m6\u001b[0m\u001b[1;33m,\u001b[0m \u001b[1;34m'list'\u001b[0m\u001b[1;33m]\u001b[0m\u001b[1;33m\u001b[0m\u001b[1;33m\u001b[0m\u001b[0m\n\u001b[1;32m----> 4\u001b[1;33m \u001b[0mA\u001b[0m\u001b[1;33m.\u001b[0m\u001b[0mremove\u001b[0m\u001b[1;33m(\u001b[0m\u001b[1;36m1.5\u001b[0m\u001b[1;33m)\u001b[0m\u001b[1;33m\u001b[0m\u001b[1;33m\u001b[0m\u001b[0m\n\u001b[0m\u001b[0;32m      5\u001b[0m \u001b[0mprint\u001b[0m\u001b[1;33m(\u001b[0m\u001b[0mA\u001b[0m\u001b[1;33m)\u001b[0m\u001b[1;33m\u001b[0m\u001b[1;33m\u001b[0m\u001b[0m\n",
      "\u001b[1;31mValueError\u001b[0m: list.remove(x): x not in list"
     ]
    }
   ],
   "source": [
    "# 4. Remove\n",
    "\n",
    "A = [5, 2.9, 6, 'list']\n",
    "A.remove(1.5)\n",
    "print(A)"
   ]
  },
  {
   "cell_type": "code",
   "execution_count": 42,
   "id": "a98e0863",
   "metadata": {},
   "outputs": [
    {
     "name": "stdout",
     "output_type": "stream",
     "text": [
      "[3, 4, 0, 5]\n"
     ]
    }
   ],
   "source": [
    "A = [3,4,5,0,5]\n",
    "A.remove(5)\n",
    "print(A)"
   ]
  },
  {
   "cell_type": "code",
   "execution_count": 43,
   "id": "f0857686",
   "metadata": {},
   "outputs": [
    {
     "name": "stdout",
     "output_type": "stream",
     "text": [
      "[3, 4, 5, 0, 5]\n"
     ]
    }
   ],
   "source": [
    "A = [3,5, 4,5,0,5]\n",
    "\n",
    "A.remove(5)\n",
    "\n",
    "print(A)"
   ]
  },
  {
   "cell_type": "code",
   "execution_count": 44,
   "id": "df4b49ee",
   "metadata": {},
   "outputs": [
    {
     "ename": "TypeError",
     "evalue": "list.remove() takes exactly one argument (2 given)",
     "output_type": "error",
     "traceback": [
      "\u001b[1;31m---------------------------------------------------------------------------\u001b[0m",
      "\u001b[1;31mTypeError\u001b[0m                                 Traceback (most recent call last)",
      "\u001b[1;32mC:\\Users\\SONURA~1.JHA\\AppData\\Local\\Temp/ipykernel_3808/146016685.py\u001b[0m in \u001b[0;36m<module>\u001b[1;34m\u001b[0m\n\u001b[0;32m      1\u001b[0m \u001b[0mA\u001b[0m \u001b[1;33m=\u001b[0m \u001b[1;33m[\u001b[0m\u001b[1;36m3\u001b[0m\u001b[1;33m,\u001b[0m\u001b[1;36m5\u001b[0m\u001b[1;33m,\u001b[0m \u001b[1;36m4\u001b[0m\u001b[1;33m,\u001b[0m\u001b[1;36m5\u001b[0m\u001b[1;33m,\u001b[0m\u001b[1;36m0\u001b[0m\u001b[1;33m,\u001b[0m\u001b[1;36m5\u001b[0m\u001b[1;33m]\u001b[0m\u001b[1;33m\u001b[0m\u001b[1;33m\u001b[0m\u001b[0m\n\u001b[0;32m      2\u001b[0m \u001b[1;33m\u001b[0m\u001b[0m\n\u001b[1;32m----> 3\u001b[1;33m \u001b[0mA\u001b[0m\u001b[1;33m.\u001b[0m\u001b[0mremove\u001b[0m\u001b[1;33m(\u001b[0m\u001b[1;36m3\u001b[0m\u001b[1;33m,\u001b[0m \u001b[1;36m5\u001b[0m\u001b[1;33m)\u001b[0m\u001b[1;33m\u001b[0m\u001b[1;33m\u001b[0m\u001b[0m\n\u001b[0m\u001b[0;32m      4\u001b[0m \u001b[1;33m\u001b[0m\u001b[0m\n\u001b[0;32m      5\u001b[0m \u001b[0mprint\u001b[0m\u001b[1;33m(\u001b[0m\u001b[0mA\u001b[0m\u001b[1;33m)\u001b[0m\u001b[1;33m\u001b[0m\u001b[1;33m\u001b[0m\u001b[0m\n",
      "\u001b[1;31mTypeError\u001b[0m: list.remove() takes exactly one argument (2 given)"
     ]
    }
   ],
   "source": [
    "A = [3,5, 4,5,0,5]\n",
    "\n",
    "A.remove(3, 5)\n",
    "\n",
    "print(A)"
   ]
  },
  {
   "cell_type": "code",
   "execution_count": 26,
   "id": "3bee285a",
   "metadata": {},
   "outputs": [
    {
     "name": "stdout",
     "output_type": "stream",
     "text": [
      "[2.9, 6, 'list']\n"
     ]
    }
   ],
   "source": [
    "A = [5, 2.9, 6, 'list']\n",
    "\n",
    "A.remove(5)\n",
    "\n",
    "print(A)"
   ]
  },
  {
   "cell_type": "markdown",
   "id": "3e9d8de3",
   "metadata": {},
   "source": [
    "**5. Pop**"
   ]
  },
  {
   "cell_type": "code",
   "execution_count": 27,
   "id": "a40eaab9",
   "metadata": {},
   "outputs": [
    {
     "ename": "TypeError",
     "evalue": "'str' object cannot be interpreted as an integer",
     "output_type": "error",
     "traceback": [
      "\u001b[1;31m---------------------------------------------------------------------------\u001b[0m",
      "\u001b[1;31mTypeError\u001b[0m                                 Traceback (most recent call last)",
      "\u001b[1;32mC:\\Users\\SONURA~1.JHA\\AppData\\Local\\Temp/ipykernel_3808/2498364700.py\u001b[0m in \u001b[0;36m<module>\u001b[1;34m\u001b[0m\n\u001b[0;32m      2\u001b[0m \u001b[1;33m\u001b[0m\u001b[0m\n\u001b[0;32m      3\u001b[0m \u001b[0mA\u001b[0m \u001b[1;33m=\u001b[0m \u001b[1;33m[\u001b[0m\u001b[1;34m'hello'\u001b[0m\u001b[1;33m,\u001b[0m\u001b[1;34m'sonu'\u001b[0m\u001b[1;33m]\u001b[0m\u001b[1;33m\u001b[0m\u001b[1;33m\u001b[0m\u001b[0m\n\u001b[1;32m----> 4\u001b[1;33m \u001b[0mA\u001b[0m\u001b[1;33m.\u001b[0m\u001b[0mpop\u001b[0m\u001b[1;33m(\u001b[0m\u001b[1;34m'h'\u001b[0m\u001b[1;33m)\u001b[0m\u001b[1;33m\u001b[0m\u001b[1;33m\u001b[0m\u001b[0m\n\u001b[0m\u001b[0;32m      5\u001b[0m \u001b[0mprint\u001b[0m\u001b[1;33m(\u001b[0m\u001b[0mA\u001b[0m\u001b[1;33m)\u001b[0m\u001b[1;33m\u001b[0m\u001b[1;33m\u001b[0m\u001b[0m\n",
      "\u001b[1;31mTypeError\u001b[0m: 'str' object cannot be interpreted as an integer"
     ]
    }
   ],
   "source": [
    "# 5. Pop\n",
    "\n",
    "A = ['hello','sonu']\n",
    "\n",
    "# removing 'h' from A\n",
    "\n",
    "A.pop('h')\n",
    "\n",
    "print(A)"
   ]
  },
  {
   "cell_type": "code",
   "execution_count": 28,
   "id": "19d9ac22",
   "metadata": {},
   "outputs": [
    {
     "name": "stdout",
     "output_type": "stream",
     "text": [
      "['sonu']\n"
     ]
    }
   ],
   "source": [
    "A = ['hello','sonu']\n",
    "\n",
    "# removing 0th index item\n",
    "A.pop(0)\n",
    "\n",
    "print(A)"
   ]
  },
  {
   "cell_type": "markdown",
   "id": "fda86312",
   "metadata": {},
   "source": [
    "**6. Clear**"
   ]
  },
  {
   "cell_type": "code",
   "execution_count": 30,
   "id": "4eb88ff8",
   "metadata": {},
   "outputs": [
    {
     "name": "stdout",
     "output_type": "stream",
     "text": [
      "[]\n"
     ]
    }
   ],
   "source": [
    "# 6. Clear\n",
    "\n",
    "A = ['hello', 'world', 'I', 'am ', 'leaarning', 'programming']\n",
    "\n",
    "# removing all the emelents from A\n",
    "A.clear()\n",
    "\n",
    "print(A)"
   ]
  },
  {
   "cell_type": "markdown",
   "id": "3ec2351f",
   "metadata": {},
   "source": [
    "**7. Index**"
   ]
  },
  {
   "cell_type": "code",
   "execution_count": 46,
   "id": "72f83b36",
   "metadata": {},
   "outputs": [
    {
     "name": "stdout",
     "output_type": "stream",
     "text": [
      "2\n"
     ]
    }
   ],
   "source": [
    "A = ['my','world', 1, '5']\n",
    "\n",
    "# findind the index of 1 in A\n",
    "\n",
    "print(A.index(1))"
   ]
  },
  {
   "cell_type": "code",
   "execution_count": 47,
   "id": "636f3c1c",
   "metadata": {},
   "outputs": [
    {
     "name": "stdout",
     "output_type": "stream",
     "text": [
      "1\n"
     ]
    }
   ],
   "source": [
    "# verifying \n",
    "\n",
    "# finding 2nd index item\n",
    "\n",
    "print(A[2])"
   ]
  },
  {
   "cell_type": "code",
   "execution_count": 49,
   "id": "8f30b223",
   "metadata": {},
   "outputs": [
    {
     "data": {
      "text/plain": [
       "['world', 1]"
      ]
     },
     "execution_count": 49,
     "metadata": {},
     "output_type": "execute_result"
    }
   ],
   "source": [
    "print(A[1:3])"
   ]
  },
  {
   "cell_type": "markdown",
   "id": "e60d80a9",
   "metadata": {},
   "source": [
    "**8. Count**"
   ]
  },
  {
   "cell_type": "code",
   "execution_count": 50,
   "id": "09d65894",
   "metadata": {},
   "outputs": [
    {
     "name": "stdout",
     "output_type": "stream",
     "text": [
      "3\n"
     ]
    }
   ],
   "source": [
    "A = [1,3,3,3,5,6,6]\n",
    "\n",
    "# counting 3 in a\n",
    "print(A.count(3))\n"
   ]
  },
  {
   "cell_type": "code",
   "execution_count": 51,
   "id": "731d3e30",
   "metadata": {},
   "outputs": [
    {
     "name": "stdout",
     "output_type": "stream",
     "text": [
      "0\n"
     ]
    }
   ],
   "source": [
    "# counting 4 in a\n",
    "print(A.count(4))"
   ]
  },
  {
   "cell_type": "code",
   "execution_count": 52,
   "id": "0197f2e4",
   "metadata": {},
   "outputs": [
    {
     "name": "stdout",
     "output_type": "stream",
     "text": [
      "1\n"
     ]
    }
   ],
   "source": [
    "# counting 5 in a\n",
    "print(A.count(5))"
   ]
  },
  {
   "cell_type": "markdown",
   "id": "10b8542a",
   "metadata": {},
   "source": [
    "**9. Sort**"
   ]
  },
  {
   "cell_type": "code",
   "execution_count": 55,
   "id": "d8ebada0",
   "metadata": {},
   "outputs": [
    {
     "name": "stdout",
     "output_type": "stream",
     "text": [
      "[2, 3, 3, 3, 5, 126]\n"
     ]
    }
   ],
   "source": [
    "A = [3,5,3,3,2,126]\n",
    "\n",
    "# sorting the element of A\n",
    "A.sort()\n",
    "\n",
    "print(A)"
   ]
  },
  {
   "cell_type": "code",
   "execution_count": 56,
   "id": "34b0ef0c",
   "metadata": {},
   "outputs": [
    {
     "name": "stdout",
     "output_type": "stream",
     "text": [
      "[126, 5, 3, 3, 3, 2]\n"
     ]
    }
   ],
   "source": [
    "# sorting the element of A\n",
    "A.sort(reverse=True)\n",
    "\n",
    "print(A)"
   ]
  },
  {
   "cell_type": "code",
   "execution_count": 58,
   "id": "9d961814",
   "metadata": {},
   "outputs": [
    {
     "ename": "TypeError",
     "evalue": "'int' object is not callable",
     "output_type": "error",
     "traceback": [
      "\u001b[1;31m---------------------------------------------------------------------------\u001b[0m",
      "\u001b[1;31mTypeError\u001b[0m                                 Traceback (most recent call last)",
      "\u001b[1;32mC:\\Users\\SONURA~1.JHA\\AppData\\Local\\Temp/ipykernel_3808/88956673.py\u001b[0m in \u001b[0;36m<module>\u001b[1;34m\u001b[0m\n\u001b[1;32m----> 1\u001b[1;33m \u001b[0mA\u001b[0m\u001b[1;33m.\u001b[0m\u001b[0msort\u001b[0m\u001b[1;33m(\u001b[0m\u001b[0mkey\u001b[0m\u001b[1;33m=\u001b[0m\u001b[1;36m2\u001b[0m\u001b[1;33m)\u001b[0m\u001b[1;33m\u001b[0m\u001b[1;33m\u001b[0m\u001b[0m\n\u001b[0m\u001b[0;32m      2\u001b[0m \u001b[1;33m\u001b[0m\u001b[0m\n\u001b[0;32m      3\u001b[0m \u001b[0mprint\u001b[0m\u001b[1;33m(\u001b[0m\u001b[0mA\u001b[0m\u001b[1;33m)\u001b[0m\u001b[1;33m\u001b[0m\u001b[1;33m\u001b[0m\u001b[0m\n",
      "\u001b[1;31mTypeError\u001b[0m: 'int' object is not callable"
     ]
    }
   ],
   "source": [
    "A.sort(key=2)\n",
    "\n",
    "print(A)"
   ]
  },
  {
   "cell_type": "code",
   "execution_count": 60,
   "id": "aea53ee2",
   "metadata": {},
   "outputs": [
    {
     "ename": "TypeError",
     "evalue": "'<' not supported between instances of 'int' and 'str'",
     "output_type": "error",
     "traceback": [
      "\u001b[1;31m---------------------------------------------------------------------------\u001b[0m",
      "\u001b[1;31mTypeError\u001b[0m                                 Traceback (most recent call last)",
      "\u001b[1;32mC:\\Users\\SONURA~1.JHA\\AppData\\Local\\Temp/ipykernel_3808/2815550827.py\u001b[0m in \u001b[0;36m<module>\u001b[1;34m\u001b[0m\n\u001b[0;32m      1\u001b[0m \u001b[0mA\u001b[0m \u001b[1;33m=\u001b[0m \u001b[1;33m[\u001b[0m\u001b[1;34m'kashmira'\u001b[0m\u001b[1;33m,\u001b[0m \u001b[1;34m'sonu'\u001b[0m\u001b[1;33m,\u001b[0m\u001b[1;34m'hello'\u001b[0m\u001b[1;33m,\u001b[0m\u001b[1;34m'world'\u001b[0m\u001b[1;33m,\u001b[0m \u001b[1;36m1\u001b[0m\u001b[1;33m,\u001b[0m\u001b[1;36m3\u001b[0m\u001b[1;33m,\u001b[0m\u001b[1;36m6\u001b[0m\u001b[1;33m]\u001b[0m\u001b[1;33m\u001b[0m\u001b[1;33m\u001b[0m\u001b[0m\n\u001b[1;32m----> 2\u001b[1;33m \u001b[0mA\u001b[0m\u001b[1;33m.\u001b[0m\u001b[0msort\u001b[0m\u001b[1;33m(\u001b[0m\u001b[1;33m)\u001b[0m\u001b[1;33m\u001b[0m\u001b[1;33m\u001b[0m\u001b[0m\n\u001b[0m\u001b[0;32m      3\u001b[0m \u001b[0mprint\u001b[0m\u001b[1;33m(\u001b[0m\u001b[0mA\u001b[0m\u001b[1;33m)\u001b[0m\u001b[1;33m\u001b[0m\u001b[1;33m\u001b[0m\u001b[0m\n",
      "\u001b[1;31mTypeError\u001b[0m: '<' not supported between instances of 'int' and 'str'"
     ]
    }
   ],
   "source": [
    "A = ['kashmira', 'sonu','hello','world', 1,3,6]\n",
    "A.sort()\n",
    "print(A)"
   ]
  },
  {
   "cell_type": "code",
   "execution_count": 61,
   "id": "261fb9d2",
   "metadata": {},
   "outputs": [
    {
     "name": "stdout",
     "output_type": "stream",
     "text": [
      "['hello', 'kashmira', 'sonu', 'world']\n"
     ]
    }
   ],
   "source": [
    "A = ['kashmira', 'sonu','hello','world']\n",
    "\n",
    "A.sort()\n",
    "\n",
    "print(A)"
   ]
  },
  {
   "cell_type": "code",
   "execution_count": 62,
   "id": "0ad45be1",
   "metadata": {},
   "outputs": [
    {
     "name": "stdout",
     "output_type": "stream",
     "text": [
      "['world', 'sonu', 'kashmira', 'hello']\n"
     ]
    }
   ],
   "source": [
    "A.sort(reverse=True)\n",
    "\n",
    "print(A)"
   ]
  },
  {
   "cell_type": "code",
   "execution_count": 72,
   "id": "bfde966c",
   "metadata": {},
   "outputs": [
    {
     "name": "stdout",
     "output_type": "stream",
     "text": [
      "['Sonu', 'kashmira', 'hello', 'world']\n"
     ]
    }
   ],
   "source": [
    "A = ['kashmira', 'Sonu','hello','world']\n",
    "\n",
    "A.sort(key=str.islower)\n",
    "\n",
    "print(A)"
   ]
  },
  {
   "cell_type": "markdown",
   "id": "660b1dab",
   "metadata": {},
   "source": [
    "**10. Reverse**"
   ]
  },
  {
   "cell_type": "code",
   "execution_count": 74,
   "id": "90f55523",
   "metadata": {},
   "outputs": [
    {
     "name": "stdout",
     "output_type": "stream",
     "text": [
      "['3', 'green', 'blue', 'sky', 'hello', 3, 1]\n"
     ]
    }
   ],
   "source": [
    "A = [1,3,'hello','sky', 'blue', 'green', '3']\n",
    "A.reverse()\n",
    "print(A)"
   ]
  },
  {
   "cell_type": "markdown",
   "id": "9eea3ba4",
   "metadata": {},
   "source": [
    "**11. Copy**"
   ]
  },
  {
   "cell_type": "code",
   "execution_count": 76,
   "id": "c4df04a8",
   "metadata": {},
   "outputs": [
    {
     "name": "stdout",
     "output_type": "stream",
     "text": [
      "[1, 3, 6]\n"
     ]
    }
   ],
   "source": [
    "A = [1, 3, 6]\n",
    "B = A.copy()\n",
    "print(B)"
   ]
  },
  {
   "cell_type": "code",
   "execution_count": 79,
   "id": "a785f7f4",
   "metadata": {},
   "outputs": [
    {
     "name": "stdout",
     "output_type": "stream",
     "text": [
      "A: [1, 3, 6]\n",
      "B: [1]\n"
     ]
    }
   ],
   "source": [
    "B.pop(1)\n",
    "print('A:', A)\n",
    "print('B:', B)"
   ]
  },
  {
   "cell_type": "code",
   "execution_count": null,
   "id": "4196ce9f",
   "metadata": {},
   "outputs": [],
   "source": []
  }
 ],
 "metadata": {
  "kernelspec": {
   "display_name": "Python 3 (ipykernel)",
   "language": "python",
   "name": "python3"
  },
  "language_info": {
   "codemirror_mode": {
    "name": "ipython",
    "version": 3
   },
   "file_extension": ".py",
   "mimetype": "text/x-python",
   "name": "python",
   "nbconvert_exporter": "python",
   "pygments_lexer": "ipython3",
   "version": "3.10.0"
  }
 },
 "nbformat": 4,
 "nbformat_minor": 5
}
